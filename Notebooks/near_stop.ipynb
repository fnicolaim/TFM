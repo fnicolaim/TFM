{
  "cells": [
    {
      "cell_type": "code",
      "execution_count": 1,
      "metadata": {
        "id": "7L843BCq24pY"
      },
      "outputs": [],
      "source": [
        "import pandas as pd\n",
        "import numba as nb\n",
        "import numpy as np\n",
        "import csv"
      ]
    },
    {
      "cell_type": "code",
      "execution_count": 2,
      "metadata": {
        "id": "crOnt26725ql"
      },
      "outputs": [],
      "source": [
        "@nb.njit(fastmath=True, error_model='numpy')\n",
        "def find_near_stops(lat, lon, stopID):\n",
        "\n",
        "    nearStopFullList = []\n",
        "    for stops in nb.prange(len(stopID)):\n",
        "        stopsList = []\n",
        "        nearStopList = []\n",
        "        rowList = []\n",
        "        stopsList.append(stopID[stops])\n",
        "        rowList.append(stopsList)\n",
        "\n",
        "        for near_stops in nb.prange(len(stopID)):\n",
        "            lon1 = np.radians(lon[near_stops])\n",
        "            lon2 = np.radians(lon[stops])\n",
        "            lat1 = np.radians(lat[near_stops])\n",
        "            lat2 = np.radians(lat[stops])\n",
        "\n",
        "            dlon = lon2 - lon1\n",
        "            dlat = lat2 - lat1\n",
        "            a = np.sin(dlat / 2) ** 2 + np.cos(lat1) * np.cos(lat2) * np.sin(dlon / 2) ** 2\n",
        "            c = 2 * np.arcsin(np.sqrt(a))\n",
        "            r = 6371000\n",
        "            distance = c * r\n",
        "\n",
        "            if distance < 650 and (stopID[near_stops] != stopID[stops]):\n",
        "                nearStopList.append(stopID[near_stops])\n",
        "\n",
        "        rowList.append(nearStopList)\n",
        "\n",
        "        nearStopFullList.append(rowList)\n",
        "    return nearStopFullList\n",
        "\n",
        "### Step added to map web source to local source\n",
        "# pd.read_excel(\"BD_TOP_AUTOBUSES.xlsx\").to_csv(\"stopInfo.csv\", index=False)\n",
        "\n",
        "railStopDf = pd.read_csv('stationInfo.csv', usecols=['LATITUD', 'LONGITUD', 'DPAYPOINT', 'DENOMINAPARADA'])\\\n",
        "    .drop_duplicates(subset=['LATITUD', 'LONGITUD'], keep=\"first\")\n",
        "railStopDf['type'] = 'rail'\n",
        "\n",
        "busStopDf = pd.read_csv('stopInfo.csv', usecols=['LATITUD', 'LONGITUD', 'DPAYPOINT', 'IDLINEA'])\n",
        "busStopDf = busStopDf[busStopDf['IDLINEA'].notna()]\n",
        "busStopDf['type'] = 'bus'\n",
        "\n",
        "allUniqueStopDf = pd.concat([railStopDf, busStopDf], ignore_index=True)\\\n",
        "    .drop_duplicates(subset=['LATITUD','LONGITUD', 'type'], keep=\"first\")\n",
        "allUniqueStopDf = allUniqueStopDf.reset_index(drop=True)\n",
        "allUniqueStopDf['IDSTOP'] = allUniqueStopDf.index\n",
        "\n"
      ]
    },
    {
      "cell_type": "code",
      "execution_count": 3,
      "metadata": {
        "id": "h3Ehneu63Fx7"
      },
      "outputs": [],
      "source": [
        "near_stops = find_near_stops(allUniqueStopDf['LATITUD'].values,\n",
        "                               allUniqueStopDf['LONGITUD'].values,\n",
        "                               allUniqueStopDf['IDSTOP'].values.astype('float64'))\n",
        "\n"
      ]
    },
    {
      "cell_type": "code",
      "execution_count": 4,
      "metadata": {
        "id": "vqE3ssN63Gr4"
      },
      "outputs": [],
      "source": [
        "fields = ['stop', 'near_stops']\n",
        "\n",
        "with open(\"near.csv\", \"w\", newline=\"\") as file:\n",
        "    write = csv.writer(file)\n",
        "    write.writerow(fields)\n",
        "    write.writerows(near_stops)"
      ]
    }
  ],
  "metadata": {
    "colab": {
      "name": "near_stop.ipynb",
      "provenance": []
    },
    "kernelspec": {
      "display_name": "Python 3",
      "name": "python3"
    },
    "language_info": {
      "codemirror_mode": {
        "name": "ipython",
        "version": 3
      },
      "file_extension": ".py",
      "mimetype": "text/x-python",
      "name": "python",
      "nbconvert_exporter": "python",
      "pygments_lexer": "ipython3",
      "version": "3.9.7"
    }
  },
  "nbformat": 4,
  "nbformat_minor": 0
}
