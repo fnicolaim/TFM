{
 "cells": [
  {
   "cell_type": "code",
   "execution_count": 1,
   "metadata": {},
   "outputs": [],
   "source": [
    "import os\n",
    "import pandas as pd"
   ]
  },
  {
   "cell_type": "code",
   "execution_count": 4,
   "metadata": {},
   "outputs": [
    {
     "name": "stdout",
     "output_type": "stream",
     "text": [
      "(167843, 3)\n"
     ]
    }
   ],
   "source": [
    "df_1_t = pd.read_csv(os.path.join(os.getcwd(),\"input\",\"transaction_data_202107.txt\"), sep=\"#\", skiprows=4260000,\n",
    "                   names=[\"cardID\",\"DIA\",\"DPAYPOINT\"])\n",
    "\n",
    "# Convert the 'date' column to datetime format\n",
    "df_1_t['DIA'] = pd.to_datetime(df_1_t['DIA'], format=\"%Y-%m-%dT%H:%M:%S\")\n",
    "# Filter transactions within the specified time range\n",
    "df_1_t = df_1_t[df_1_t['DIA'] > \"2021-07-31 04:00:00\"]\n",
    "print(df_1_t.shape)"
   ]
  },
  {
   "cell_type": "code",
   "execution_count": 16,
   "metadata": {},
   "outputs": [
    {
     "name": "stdout",
     "output_type": "stream",
     "text": [
      "(867, 3)\n",
      "(252127, 3)\n"
     ]
    }
   ],
   "source": [
    "df_2_h = pd.read_csv(os.path.join(os.getcwd(),\"input\",\"transaction_data_202108.txt\"), sep=\"#\", nrows=100000)\n",
    "df_2_t = pd.read_csv(os.path.join(os.getcwd(),\"input\",\"transaction_data_202108.txt\"), sep=\"#\", skiprows=5600000,\n",
    "                     names=[\"cardID\",\"DIA\",\"DPAYPOINT\"])\n",
    "# select rows of interest\n",
    "df_2_h['DIA'] = pd.to_datetime(df_2_h['DIA'], format=\"%Y-%m-%dT%H:%M:%S\")\n",
    "df_2_h = df_2_h[df_2_h['DIA'] < \"2021-08-01 03:59:59\"]\n",
    "print(df_2_h.shape)\n",
    "df_2_t['DIA'] = pd.to_datetime(df_2_t['DIA'], format=\"%Y-%m-%dT%H:%M:%S\")\n",
    "df_2_t = df_2_t[df_2_t['DIA'] > \"2021-08-31 04:00:00\"]\n",
    "print(df_2_t.shape)"
   ]
  },
  {
   "cell_type": "code",
   "execution_count": 18,
   "metadata": {},
   "outputs": [
    {
     "name": "stdout",
     "output_type": "stream",
     "text": [
      "(462, 3)\n",
      "(397671, 3)\n"
     ]
    }
   ],
   "source": [
    "df_3_h = pd.read_csv(os.path.join(os.getcwd(),\"input\",\"transaction_data_202109.txt\"), sep=\"#\", nrows=100000)\n",
    "df_3_t = pd.read_csv(os.path.join(os.getcwd(),\"input\",\"transaction_data_202109.txt\"), sep=\"#\", skiprows=7400000,\n",
    "                     names=[\"cardID\",\"DIA\",\"DPAYPOINT\"])\n",
    "# select rows of interest\n",
    "df_3_h['DIA'] = pd.to_datetime(df_3_h['DIA'], format=\"%Y-%m-%dT%H:%M:%S\")\n",
    "df_3_h = df_3_h[df_3_h['DIA'] < \"2021-09-01 03:59:59\"]\n",
    "print(df_3_h.shape)\n",
    "df_3_t['DIA'] = pd.to_datetime(df_3_t['DIA'], format=\"%Y-%m-%dT%H:%M:%S\")\n",
    "df_3_t = df_3_t[df_3_t['DIA'] > \"2021-09-30 04:00:00\"]\n",
    "print(df_3_t.shape)"
   ]
  },
  {
   "cell_type": "code",
   "execution_count": 22,
   "metadata": {},
   "outputs": [
    {
     "name": "stdout",
     "output_type": "stream",
     "text": [
      "(580, 3)\n"
     ]
    }
   ],
   "source": [
    "df_4_h = pd.read_csv(os.path.join(os.getcwd(),\"input\",\"transaction_data_202110.txt\"), sep=\"#\", nrows=100000)\n",
    "\n",
    "# select rows of interest\n",
    "df_4_h['DIA'] = pd.to_datetime(df_4_h['DIA'], format=\"%Y-%m-%dT%H:%M:%S\")\n",
    "df_4_h = df_4_h[df_4_h['DIA'] < \"2021-10-01 03:59:59\"]\n",
    "print(df_4_h.shape)"
   ]
  },
  {
   "cell_type": "code",
   "execution_count": 23,
   "metadata": {},
   "outputs": [],
   "source": [
    "dfs = [df_1_t, \n",
    "       df_2_h, df_2_t,\n",
    "       df_3_h, df_3_t,\n",
    "       df_4_h]\n",
    "df = pd.concat(dfs, ignore_index=True)\n",
    "df.DIA = df.DIA.dt.strftime(\"%Y-%m-%dT%H:%M:%S\")"
   ]
  },
  {
   "cell_type": "code",
   "execution_count": 25,
   "metadata": {},
   "outputs": [],
   "source": [
    "df.to_csv(r\"D:\\Proyectos personales\\TFM DEFINITIVO\\input\\transaction_data_edges_2.txt\", sep=\"#\", index=False)"
   ]
  }
 ],
 "metadata": {
  "kernelspec": {
   "display_name": "Python 3",
   "language": "python",
   "name": "python3"
  },
  "language_info": {
   "codemirror_mode": {
    "name": "ipython",
    "version": 3
   },
   "file_extension": ".py",
   "mimetype": "text/x-python",
   "name": "python",
   "nbconvert_exporter": "python",
   "pygments_lexer": "ipython3",
   "version": "3.11.1"
  },
  "orig_nbformat": 4
 },
 "nbformat": 4,
 "nbformat_minor": 2
}
